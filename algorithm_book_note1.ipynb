{
 "cells": [
  {
   "cell_type": "code",
   "execution_count": 2,
   "metadata": {},
   "outputs": [
    {
     "name": "stdout",
     "output_type": "stream",
     "text": [
      "12\n"
     ]
    }
   ],
   "source": [
    "def recursive_sum(nums):\n",
    "    if len(nums) == 0:\n",
    "        return 0\n",
    "    elif len(nums) == 1:\n",
    "        return nums[0]\n",
    "    return nums[0]+recursive_sum(nums[1:])\n",
    "    \n",
    "nums = [2, 4, 6]\n",
    "result = recursive_sum(nums)\n",
    "print(result)\n",
    "    "
   ]
  },
  {
   "cell_type": "code",
   "execution_count": 4,
   "metadata": {},
   "outputs": [
    {
     "name": "stdout",
     "output_type": "stream",
     "text": [
      "3\n"
     ]
    }
   ],
   "source": [
    "def count(list):\n",
    "    if len(list) == 0:\n",
    "        return 0\n",
    "    return 1 + count(list[1:])\n",
    "nums = [2, 4, 6]\n",
    "result = count(nums)\n",
    "print(result)"
   ]
  },
  {
   "cell_type": "code",
   "execution_count": null,
   "metadata": {},
   "outputs": [],
   "source": [
    "def find_max(list):\n",
    "    if len(list) == 2:\n",
    "        return len[0] if len[0] > len[1] else len[1]\n",
    "    sub_max = find_max[2:]"
   ]
  },
  {
   "cell_type": "code",
   "execution_count": null,
   "metadata": {},
   "outputs": [],
   "source": []
  }
 ],
 "metadata": {
  "kernelspec": {
   "display_name": "base",
   "language": "python",
   "name": "python3"
  },
  "language_info": {
   "codemirror_mode": {
    "name": "ipython",
    "version": 3
   },
   "file_extension": ".py",
   "mimetype": "text/x-python",
   "name": "python",
   "nbconvert_exporter": "python",
   "pygments_lexer": "ipython3",
   "version": "3.10.9"
  }
 },
 "nbformat": 4,
 "nbformat_minor": 2
}
