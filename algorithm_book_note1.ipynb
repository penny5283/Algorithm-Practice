{
 "cells": [
  {
   "cell_type": "code",
   "execution_count": 2,
   "metadata": {},
   "outputs": [
    {
     "name": "stdout",
     "output_type": "stream",
     "text": [
      "12\n"
     ]
    }
   ],
   "source": [
    "def recursive_sum(nums):\n",
    "    if len(nums) == 0:\n",
    "        return 0\n",
    "    elif len(nums) == 1:\n",
    "        return nums[0]\n",
    "    return nums[0]+recursive_sum(nums[1:])\n",
    "    \n",
    "nums = [2, 4, 6]\n",
    "result = recursive_sum(nums)\n",
    "print(result)\n",
    "    "
   ]
  },
  {
   "cell_type": "code",
   "execution_count": 4,
   "metadata": {},
   "outputs": [
    {
     "name": "stdout",
     "output_type": "stream",
     "text": [
      "3\n"
     ]
    }
   ],
   "source": [
    "def count(list):\n",
    "    if len(list) == 0:\n",
    "        return 0\n",
    "    return 1 + count(list[1:])\n",
    "nums = [2, 4, 6]\n",
    "result = count(nums)\n",
    "print(result)"
   ]
  },
  {
   "cell_type": "code",
   "execution_count": 2,
   "metadata": {},
   "outputs": [
    {
     "name": "stdout",
     "output_type": "stream",
     "text": [
      "6\n"
     ]
    }
   ],
   "source": [
    "def find_max(nums):\n",
    "    if len(nums) == 2:\n",
    "        return nums[0] if nums[0] > nums[1] else nums[1]\n",
    "    sub_max = max(nums[1:])\n",
    "    return nums[0] if nums[0] > sub_max else sub_max\n",
    "    \n",
    "nums = [2, 4, 6]\n",
    "result = find_max(nums)\n",
    "print(result)"
   ]
  },
  {
   "cell_type": "code",
   "execution_count": 1,
   "metadata": {},
   "outputs": [
    {
     "name": "stdout",
     "output_type": "stream",
     "text": [
      "Alice is allowed to vote\n",
      "Bob is allowed to vote\n",
      "Alice has already voted. Access denied.\n",
      "{'Alice': True, 'Bob': True}\n"
     ]
    }
   ],
   "source": [
    "## this is to check if voter are in the hashtable if are exclude else let them vote\n",
    "voted = {} ## global variable for future update\n",
    "def vote(name):\n",
    "    value = voted.get(name)\n",
    "    if value is True:\n",
    "        print(f\"{name} has already voted. Access denied.\")\n",
    "    else:\n",
    "        voted[name] = True\n",
    "        print(f\"{name} is allowed to vote\")\n",
    "        \n",
    "vote(\"Alice\")  # Alice is allowed to vote.\n",
    "vote(\"Bob\")    # Bob is allowed to vote.\n",
    "vote(\"Alice\")  # Alice has already voted. Access denied.\n",
    "\n",
    "print(voted)   # {'Alice': True, 'Bob': True}\n"
   ]
  }
 ],
 "metadata": {
  "kernelspec": {
   "display_name": "base",
   "language": "python",
   "name": "python3"
  },
  "language_info": {
   "codemirror_mode": {
    "name": "ipython",
    "version": 3
   },
   "file_extension": ".py",
   "mimetype": "text/x-python",
   "name": "python",
   "nbconvert_exporter": "python",
   "pygments_lexer": "ipython3",
   "version": "3.10.9"
  }
 },
 "nbformat": 4,
 "nbformat_minor": 2
}
